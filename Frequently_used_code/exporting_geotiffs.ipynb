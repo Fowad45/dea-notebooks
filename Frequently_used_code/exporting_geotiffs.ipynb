{
 "cells": [
  {
   "cell_type": "markdown",
   "metadata": {},
   "source": [
    "# Exporting a geotiff file from an analysis workflow"
   ]
  },
  {
   "cell_type": "markdown",
   "metadata": {},
   "source": [
    "**Notebook currently compatible with the `NCI`|`DEA Sandbox` environment only**"
   ]
  },
  {
   "cell_type": "markdown",
   "metadata": {},
   "source": [
    "### Background\n",
    "\n",
    "Often, at the end of an analysis, we want to export a geotiff **(outputname.tif)** file, either to save our results, or to allow for exploring our results in a GIS software platform (ArcGIS or QGIS, typically)"
   ]
  },
  {
   "cell_type": "markdown",
   "metadata": {},
   "source": [
    "### Description\n",
    "\n",
    "This notebook shows a number of ways to export a geotiff file:\n",
    "- Exporting a single-band, single time-slice geotiff from an xarray object loaded through a `dc.load` query\n",
    "- Exporting a multi-band, single time-slice geotiff from an xarray object loaded through a `dc.load` query\n",
    "- Exporting multiple geotiffs, one for each time-slice of an xarray object loaded through a `dc.load` query\n",
    "- Exporting a single-band geotiff when handling a simple array and/or an xarray that doesn't contain `transform` or `afffine` metadata\n"
   ]
  },
  {
   "cell_type": "markdown",
   "metadata": {},
   "source": [
    "### Technical details\n",
    "* **Products used:** `Sentinel 2`\n",
    "* **Analyses used:** `datacube.helpers.write_geotiff` `SpatialTools.array_to_geotiff` `SpatialTools.dataset_to_geotiff`"
   ]
  },
  {
   "cell_type": "markdown",
   "metadata": {},
   "source": [
    "## Getting started\n",
    "To run this analysis, run all the cells in the notebook, starting with the \"Load packages\" cell. "
   ]
  },
  {
   "cell_type": "markdown",
   "metadata": {},
   "source": [
    "### Load packages\n"
   ]
  },
  {
   "cell_type": "code",
   "execution_count": 5,
   "metadata": {},
   "outputs": [],
   "source": [
    "%matplotlib inline\n",
    "\n",
    "import datacube\n",
    "from datacube.helpers import write_geotiff\n",
    "import matplotlib.pyplot as plt\n",
    "import numpy as np\n",
    "import pandas as pd\n",
    "import sys\n",
    "import xarray as xr\n",
    "\n",
    "sys.path.append(\"../Scripts\")\n",
    "from dea_datahandling import load_ard\n",
    "import dea_spatialTools"
   ]
  },
  {
   "cell_type": "markdown",
   "metadata": {},
   "source": [
    "### Connect to the datacube\n",
    "Give your datacube app a unique name that is consistent with the purpose of the notebook."
   ]
  },
  {
   "cell_type": "code",
   "execution_count": 2,
   "metadata": {},
   "outputs": [],
   "source": [
    "dc = datacube.Datacube(app=\"DEA_writing_to_geotiff\")"
   ]
  },
  {
   "cell_type": "markdown",
   "metadata": {},
   "source": [
    "## Load Sentinel 2 data from the datacube\n",
    "\n",
    "Here we are loading in a sequence of `Sentinel 2` satellite images through the datacube api. This will provide us with some data to work with."
   ]
  },
  {
   "cell_type": "code",
   "execution_count": 4,
   "metadata": {},
   "outputs": [],
   "source": [
    "#create a query\n",
    "query = {\n",
    "    'x': (153.40, 153.45),\n",
    "    'y': (-28.85, -28.90),\n",
    "    'time': ('2018-01', '2018-06'),\n",
    "    'measurements': ['nbart_red', 'nbart_green','nbart_blue'],\n",
    "    'output_crs': 'EPSG:3577',\n",
    "    'resolution': (-30, 30),\n",
    "    'group_by': 'solar_day'\n",
    "}\n",
    "\n",
    "# Load available data from both Sentinel 2 satellites\n",
    "ds = load_ard(dc=dc_sentinel2,\n",
    "              products=['s2a_ard_granule', 's2b_ard_granule'],\n",
    "              **query)\n",
    "\n",
    "# Print output data\n",
    "print(ds)"
   ]
  },
  {
   "cell_type": "markdown",
   "metadata": {},
   "source": [
    "### Export a single-band, single time-slice geotiff\n"
   ]
  },
  {
   "cell_type": "code",
   "execution_count": 5,
   "metadata": {},
   "outputs": [],
   "source": [
    "ds.isel(time = 1).red.write_geotiff"
   ]
  },
  {
   "cell_type": "markdown",
   "metadata": {},
   "source": [
    "### Export a multi-band, single time-slice geotiff"
   ]
  },
  {
   "cell_type": "code",
   "execution_count": 6,
   "metadata": {},
   "outputs": [],
   "source": [
    "SpatialTools.dataset_to_geotiff(ds.isel(time=1))"
   ]
  },
  {
   "cell_type": "markdown",
   "metadata": {},
   "source": [
    "### Export multiple geotiffs, one for each time-slice of an xarray"
   ]
  },
  {
   "cell_type": "code",
   "execution_count": null,
   "metadata": {},
   "outputs": [],
   "source": [
    "for i in range(len(ds.time)):\n",
    "    date_s2 = str(s2.isel(time=i).time.data)[:-19]\n",
    "    filename2='{}s2_{}.tif'.format(filename,date_s2)\n",
    "    print(date_s2)\n",
    "    SpatialTools.dataset_to_geotiff(filename2, s2.isel(time=i))"
   ]
  },
  {
   "cell_type": "markdown",
   "metadata": {},
   "source": [
    "### Export a single-band geotiff when handling a simple array\n",
    "\n",
    "Here we will perform some trivial analysis that will require shifting our datacube acquired xarray object into a numpy array, then we will export our numpy array to a geotiff. This approach is sueful as often in a workflow we don't always have access to the metadata required to work with fuctions like `datacube.helpers.write_geotiff` and this approach will work on any array as long as we know the projection and the coordinates."
   ]
  },
  {
   "cell_type": "code",
   "execution_count": 6,
   "metadata": {},
   "outputs": [],
   "source": [
    "#perform some trivial analysis\n",
    "test_array = np.where(ds.red.values > 1, np.nan, 0)"
   ]
  },
  {
   "cell_type": "code",
   "execution_count": null,
   "metadata": {},
   "outputs": [],
   "source": [
    "#first grab the spatial information from our datacube xarray object\n",
    "transform, projection = SpatialTools.geotransform(ds, (ds.x, ds.y), epsg=3577)\n",
    "\n",
    "#export the array\n",
    "SpatialTools.array_to_geotiff(\"output.tif\",\n",
    "      test_array, geo_transform = transform, \n",
    "      projection = projection, \n",
    "      nodata_val=-999)"
   ]
  },
  {
   "cell_type": "code",
   "execution_count": null,
   "metadata": {},
   "outputs": [],
   "source": []
  },
  {
   "cell_type": "markdown",
   "metadata": {},
   "source": [
    "## Additional information"
   ]
  },
  {
   "cell_type": "markdown",
   "metadata": {},
   "source": [
    "**License:** The code in this notebook is licensed under the [Apache License, Version 2.0](https://www.apache.org/licenses/LICENSE-2.0). \n",
    "Digital Earth Australia data is licensed under the [Creative Commons by Attribution 4.0](https://creativecommons.org/licenses/by/4.0/) license.\n",
    "\n",
    "**Contact:** If you need assistance, please post a question on the [Open Data Cube Slack channel](http://slack.opendatacube.org/) or on the [GIS Stack Exchange](https://gis.stackexchange.com/questions/ask?tags=open-data-cube) using the `open-data-cube` tag (you can view previously asked questions [here](https://gis.stackexchange.com/questions/tagged/open-data-cube)).\n",
    "If you would like to report an issue with this notebook, you can file one on [Github](https://github.com/GeoscienceAustralia/dea-notebooks).\n",
    "\n",
    "**Last modified:** September 2019\n",
    "\n",
    "**Compatible `datacube` version:** "
   ]
  },
  {
   "cell_type": "code",
   "execution_count": 7,
   "metadata": {},
   "outputs": [
    {
     "name": "stdout",
     "output_type": "stream",
     "text": [
      "1.7+43.gc873f3ea\n"
     ]
    }
   ],
   "source": [
    "print(datacube.__version__)"
   ]
  },
  {
   "cell_type": "markdown",
   "metadata": {},
   "source": [
    "## Tags\n",
    "Browse all available tags on the DEA User Guide's [Tags Index](https://docs.dea.ga.gov.au/genindex.html)"
   ]
  },
  {
   "cell_type": "raw",
   "metadata": {
    "raw_mimetype": "text/restructuredtext"
   },
   "source": [
    "**Tags**: :index:`sandbox_compatible`, :index:`nci_compatible`, :index:`geotiff`, :index:`dc.load`, :index:`Sentinel 2`, :index:`array_to_geotiff`, :index:`dataset_to_geotiff`"
   ]
  }
 ],
 "metadata": {
  "kernelspec": {
   "display_name": "Python 3",
   "language": "python",
   "name": "python3"
  },
  "language_info": {
   "codemirror_mode": {
    "name": "ipython",
    "version": 3
   },
   "file_extension": ".py",
   "mimetype": "text/x-python",
   "name": "python",
   "nbconvert_exporter": "python",
   "pygments_lexer": "ipython3",
   "version": "3.6.8"
  }
 },
 "nbformat": 4,
 "nbformat_minor": 4
}
